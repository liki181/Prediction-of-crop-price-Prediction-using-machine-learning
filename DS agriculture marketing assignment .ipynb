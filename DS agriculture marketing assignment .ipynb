{
 "cells": [
  {
   "cell_type": "markdown",
   "metadata": {},
   "source": [
    "Importing necassary library "
   ]
  },
  {
   "cell_type": "code",
   "execution_count": 1,
   "metadata": {},
   "outputs": [],
   "source": [
    "import pandas as pd # to work with data set \n",
    "import numpy as np  # to work with arrays \n",
    "import seaborn as sns # for visulization \n",
    "import matplotlib.pyplot as plt  # for visulization "
   ]
  },
  {
   "cell_type": "code",
   "execution_count": 2,
   "metadata": {},
   "outputs": [],
   "source": [
    "# loading the data set  \n",
    "data = pd.read_csv(\"Desktop\\\\Agriculture markeing.csv\",parse_dates=[\"Price Date\"])"
   ]
  },
  {
   "cell_type": "markdown",
   "metadata": {},
   "source": [
    "# A.Python Script"
   ]
  },
  {
   "cell_type": "markdown",
   "metadata": {},
   "source": [
    "Write a python script to fetch data of prices for the year 2020 (date wise from 1st Jan’2020 to 31st Dec’2020) for district “Agra” of Uttar Pradesh from the data sources mentioned in the data section mentioned below"
   ]
  },
  {
   "cell_type": "code",
   "execution_count": 3,
   "metadata": {},
   "outputs": [
    {
     "data": {
      "text/html": [
       "<div>\n",
       "<style scoped>\n",
       "    .dataframe tbody tr th:only-of-type {\n",
       "        vertical-align: middle;\n",
       "    }\n",
       "\n",
       "    .dataframe tbody tr th {\n",
       "        vertical-align: top;\n",
       "    }\n",
       "\n",
       "    .dataframe thead th {\n",
       "        text-align: right;\n",
       "    }\n",
       "</style>\n",
       "<table border=\"1\" class=\"dataframe\">\n",
       "  <thead>\n",
       "    <tr style=\"text-align: right;\">\n",
       "      <th></th>\n",
       "      <th>Sl no.</th>\n",
       "      <th>District Name</th>\n",
       "      <th>Market Name</th>\n",
       "      <th>Commodity</th>\n",
       "      <th>Variety</th>\n",
       "      <th>Grade</th>\n",
       "      <th>Min Price (Rs./Quintal)</th>\n",
       "      <th>Max Price (Rs./Quintal)</th>\n",
       "      <th>Modal Price (Rs./Quintal)</th>\n",
       "      <th>Price Date</th>\n",
       "    </tr>\n",
       "  </thead>\n",
       "  <tbody>\n",
       "    <tr>\n",
       "      <th>0</th>\n",
       "      <td>1</td>\n",
       "      <td>Agra</td>\n",
       "      <td>Achnera</td>\n",
       "      <td>Potato</td>\n",
       "      <td>Desi</td>\n",
       "      <td>FAQ</td>\n",
       "      <td>900</td>\n",
       "      <td>1000</td>\n",
       "      <td>950</td>\n",
       "      <td>2020-12-30</td>\n",
       "    </tr>\n",
       "    <tr>\n",
       "      <th>1</th>\n",
       "      <td>2</td>\n",
       "      <td>Agra</td>\n",
       "      <td>Achnera</td>\n",
       "      <td>Potato</td>\n",
       "      <td>Desi</td>\n",
       "      <td>FAQ</td>\n",
       "      <td>800</td>\n",
       "      <td>900</td>\n",
       "      <td>850</td>\n",
       "      <td>2020-12-29</td>\n",
       "    </tr>\n",
       "    <tr>\n",
       "      <th>2</th>\n",
       "      <td>3</td>\n",
       "      <td>Agra</td>\n",
       "      <td>Achnera</td>\n",
       "      <td>Potato</td>\n",
       "      <td>Desi</td>\n",
       "      <td>FAQ</td>\n",
       "      <td>850</td>\n",
       "      <td>950</td>\n",
       "      <td>900</td>\n",
       "      <td>2020-12-28</td>\n",
       "    </tr>\n",
       "    <tr>\n",
       "      <th>3</th>\n",
       "      <td>4</td>\n",
       "      <td>Agra</td>\n",
       "      <td>Achnera</td>\n",
       "      <td>Potato</td>\n",
       "      <td>Desi</td>\n",
       "      <td>FAQ</td>\n",
       "      <td>800</td>\n",
       "      <td>900</td>\n",
       "      <td>850</td>\n",
       "      <td>2020-12-27</td>\n",
       "    </tr>\n",
       "    <tr>\n",
       "      <th>4</th>\n",
       "      <td>5</td>\n",
       "      <td>Agra</td>\n",
       "      <td>Achnera</td>\n",
       "      <td>Potato</td>\n",
       "      <td>Desi</td>\n",
       "      <td>FAQ</td>\n",
       "      <td>800</td>\n",
       "      <td>900</td>\n",
       "      <td>850</td>\n",
       "      <td>2020-12-26</td>\n",
       "    </tr>\n",
       "  </tbody>\n",
       "</table>\n",
       "</div>"
      ],
      "text/plain": [
       "   Sl no. District Name Market Name Commodity Variety Grade  \\\n",
       "0       1          Agra     Achnera    Potato    Desi   FAQ   \n",
       "1       2          Agra     Achnera    Potato    Desi   FAQ   \n",
       "2       3          Agra     Achnera    Potato    Desi   FAQ   \n",
       "3       4          Agra     Achnera    Potato    Desi   FAQ   \n",
       "4       5          Agra     Achnera    Potato    Desi   FAQ   \n",
       "\n",
       "   Min Price (Rs./Quintal)  Max Price (Rs./Quintal)  \\\n",
       "0                      900                     1000   \n",
       "1                      800                      900   \n",
       "2                      850                      950   \n",
       "3                      800                      900   \n",
       "4                      800                      900   \n",
       "\n",
       "   Modal Price (Rs./Quintal) Price Date  \n",
       "0                        950 2020-12-30  \n",
       "1                        850 2020-12-29  \n",
       "2                        900 2020-12-28  \n",
       "3                        850 2020-12-27  \n",
       "4                        850 2020-12-26  "
      ]
     },
     "execution_count": 3,
     "metadata": {},
     "output_type": "execute_result"
    }
   ],
   "source": [
    "# checking the top 5 of the data \n",
    "data.head()"
   ]
  },
  {
   "cell_type": "code",
   "execution_count": 4,
   "metadata": {},
   "outputs": [
    {
     "data": {
      "text/html": [
       "<div>\n",
       "<style scoped>\n",
       "    .dataframe tbody tr th:only-of-type {\n",
       "        vertical-align: middle;\n",
       "    }\n",
       "\n",
       "    .dataframe tbody tr th {\n",
       "        vertical-align: top;\n",
       "    }\n",
       "\n",
       "    .dataframe thead th {\n",
       "        text-align: right;\n",
       "    }\n",
       "</style>\n",
       "<table border=\"1\" class=\"dataframe\">\n",
       "  <thead>\n",
       "    <tr style=\"text-align: right;\">\n",
       "      <th></th>\n",
       "      <th>Sl no.</th>\n",
       "      <th>District Name</th>\n",
       "      <th>Market Name</th>\n",
       "      <th>Commodity</th>\n",
       "      <th>Variety</th>\n",
       "      <th>Grade</th>\n",
       "      <th>Min Price (Rs./Quintal)</th>\n",
       "      <th>Max Price (Rs./Quintal)</th>\n",
       "      <th>Modal Price (Rs./Quintal)</th>\n",
       "      <th>Price Date</th>\n",
       "    </tr>\n",
       "  </thead>\n",
       "  <tbody>\n",
       "    <tr>\n",
       "      <th>1822</th>\n",
       "      <td>1823</td>\n",
       "      <td>Agra</td>\n",
       "      <td>Samsabad</td>\n",
       "      <td>Potato</td>\n",
       "      <td>Local</td>\n",
       "      <td>FAQ</td>\n",
       "      <td>1000</td>\n",
       "      <td>1200</td>\n",
       "      <td>1100</td>\n",
       "      <td>2020-01-06</td>\n",
       "    </tr>\n",
       "    <tr>\n",
       "      <th>1823</th>\n",
       "      <td>1824</td>\n",
       "      <td>Agra</td>\n",
       "      <td>Samsabad</td>\n",
       "      <td>Potato</td>\n",
       "      <td>Local</td>\n",
       "      <td>FAQ</td>\n",
       "      <td>1000</td>\n",
       "      <td>1200</td>\n",
       "      <td>1100</td>\n",
       "      <td>2020-01-05</td>\n",
       "    </tr>\n",
       "    <tr>\n",
       "      <th>1824</th>\n",
       "      <td>1825</td>\n",
       "      <td>Agra</td>\n",
       "      <td>Samsabad</td>\n",
       "      <td>Potato</td>\n",
       "      <td>Local</td>\n",
       "      <td>FAQ</td>\n",
       "      <td>1100</td>\n",
       "      <td>1300</td>\n",
       "      <td>1200</td>\n",
       "      <td>2020-01-04</td>\n",
       "    </tr>\n",
       "    <tr>\n",
       "      <th>1825</th>\n",
       "      <td>1826</td>\n",
       "      <td>Agra</td>\n",
       "      <td>Samsabad</td>\n",
       "      <td>Potato</td>\n",
       "      <td>Local</td>\n",
       "      <td>FAQ</td>\n",
       "      <td>1100</td>\n",
       "      <td>1300</td>\n",
       "      <td>1200</td>\n",
       "      <td>2020-01-02</td>\n",
       "    </tr>\n",
       "    <tr>\n",
       "      <th>1826</th>\n",
       "      <td>1827</td>\n",
       "      <td>Agra</td>\n",
       "      <td>Samsabad</td>\n",
       "      <td>Potato</td>\n",
       "      <td>Local</td>\n",
       "      <td>FAQ</td>\n",
       "      <td>1100</td>\n",
       "      <td>1300</td>\n",
       "      <td>1200</td>\n",
       "      <td>2020-01-01</td>\n",
       "    </tr>\n",
       "  </tbody>\n",
       "</table>\n",
       "</div>"
      ],
      "text/plain": [
       "      Sl no. District Name Market Name Commodity Variety Grade  \\\n",
       "1822    1823          Agra    Samsabad    Potato   Local   FAQ   \n",
       "1823    1824          Agra    Samsabad    Potato   Local   FAQ   \n",
       "1824    1825          Agra    Samsabad    Potato   Local   FAQ   \n",
       "1825    1826          Agra    Samsabad    Potato   Local   FAQ   \n",
       "1826    1827          Agra    Samsabad    Potato   Local   FAQ   \n",
       "\n",
       "      Min Price (Rs./Quintal)  Max Price (Rs./Quintal)  \\\n",
       "1822                     1000                     1200   \n",
       "1823                     1000                     1200   \n",
       "1824                     1100                     1300   \n",
       "1825                     1100                     1300   \n",
       "1826                     1100                     1300   \n",
       "\n",
       "      Modal Price (Rs./Quintal) Price Date  \n",
       "1822                       1100 2020-01-06  \n",
       "1823                       1100 2020-01-05  \n",
       "1824                       1200 2020-01-04  \n",
       "1825                       1200 2020-01-02  \n",
       "1826                       1200 2020-01-01  "
      ]
     },
     "execution_count": 4,
     "metadata": {},
     "output_type": "execute_result"
    }
   ],
   "source": [
    "# bottom 5 values \n",
    "data.tail()"
   ]
  },
  {
   "cell_type": "markdown",
   "metadata": {},
   "source": [
    "# Data preprocessing "
   ]
  },
  {
   "cell_type": "code",
   "execution_count": 5,
   "metadata": {},
   "outputs": [
    {
     "data": {
      "text/plain": [
       "(1827, 10)"
      ]
     },
     "execution_count": 5,
     "metadata": {},
     "output_type": "execute_result"
    }
   ],
   "source": [
    "# getting data shape\n",
    "data.shape"
   ]
  },
  {
   "cell_type": "code",
   "execution_count": 6,
   "metadata": {},
   "outputs": [
    {
     "name": "stdout",
     "output_type": "stream",
     "text": [
      "<class 'pandas.core.frame.DataFrame'>\n",
      "RangeIndex: 1827 entries, 0 to 1826\n",
      "Data columns (total 10 columns):\n",
      " #   Column                     Non-Null Count  Dtype         \n",
      "---  ------                     --------------  -----         \n",
      " 0   Sl no.                     1827 non-null   int64         \n",
      " 1   District Name              1827 non-null   object        \n",
      " 2   Market Name                1827 non-null   object        \n",
      " 3   Commodity                  1827 non-null   object        \n",
      " 4   Variety                    1827 non-null   object        \n",
      " 5   Grade                      1827 non-null   object        \n",
      " 6   Min Price (Rs./Quintal)    1827 non-null   int64         \n",
      " 7   Max Price (Rs./Quintal)    1827 non-null   int64         \n",
      " 8   Modal Price (Rs./Quintal)  1827 non-null   int64         \n",
      " 9   Price Date                 1827 non-null   datetime64[ns]\n",
      "dtypes: datetime64[ns](1), int64(4), object(5)\n",
      "memory usage: 142.9+ KB\n"
     ]
    }
   ],
   "source": [
    "# checking the infomation of data\n",
    "data.info()"
   ]
  },
  {
   "cell_type": "code",
   "execution_count": 6,
   "metadata": {},
   "outputs": [
    {
     "data": {
      "text/plain": [
       "Sl no.                                int64\n",
       "District Name                        object\n",
       "Market Name                          object\n",
       "Commodity                            object\n",
       "Variety                              object\n",
       "Grade                                object\n",
       "Min Price (Rs./Quintal)               int64\n",
       "Max Price (Rs./Quintal)               int64\n",
       "Modal Price (Rs./Quintal)             int64\n",
       "Price Date                   datetime64[ns]\n",
       "dtype: object"
      ]
     },
     "execution_count": 6,
     "metadata": {},
     "output_type": "execute_result"
    }
   ],
   "source": [
    "# checking the data types of features  \n",
    "data.dtypes"
   ]
  },
  {
   "cell_type": "code",
   "execution_count": 7,
   "metadata": {},
   "outputs": [
    {
     "data": {
      "text/plain": [
       "Achnera           306\n",
       "Fatehpur Sikri    290\n",
       "Agra              285\n",
       "Fatehabad         258\n",
       "Khairagarh        187\n",
       "Jagnair           187\n",
       "Samsabad          168\n",
       "Jarar             146\n",
       "Name: Market Name, dtype: int64"
      ]
     },
     "execution_count": 7,
     "metadata": {},
     "output_type": "execute_result"
    }
   ],
   "source": [
    "# value counts of ecah values in market name \n",
    "data[\"Market Name\"].value_counts()"
   ]
  },
  {
   "cell_type": "code",
   "execution_count": null,
   "metadata": {},
   "outputs": [],
   "source": []
  },
  {
   "cell_type": "code",
   "execution_count": 7,
   "metadata": {},
   "outputs": [
    {
     "data": {
      "text/html": [
       "<div>\n",
       "<style scoped>\n",
       "    .dataframe tbody tr th:only-of-type {\n",
       "        vertical-align: middle;\n",
       "    }\n",
       "\n",
       "    .dataframe tbody tr th {\n",
       "        vertical-align: top;\n",
       "    }\n",
       "\n",
       "    .dataframe thead th {\n",
       "        text-align: right;\n",
       "    }\n",
       "</style>\n",
       "<table border=\"1\" class=\"dataframe\">\n",
       "  <thead>\n",
       "    <tr style=\"text-align: right;\">\n",
       "      <th></th>\n",
       "      <th>Sl no.</th>\n",
       "      <th>Min Price (Rs./Quintal)</th>\n",
       "      <th>Max Price (Rs./Quintal)</th>\n",
       "      <th>Modal Price (Rs./Quintal)</th>\n",
       "    </tr>\n",
       "  </thead>\n",
       "  <tbody>\n",
       "    <tr>\n",
       "      <th>count</th>\n",
       "      <td>1827.000000</td>\n",
       "      <td>1827.000000</td>\n",
       "      <td>1827.000000</td>\n",
       "      <td>1827.000000</td>\n",
       "    </tr>\n",
       "    <tr>\n",
       "      <th>mean</th>\n",
       "      <td>914.000000</td>\n",
       "      <td>1392.799672</td>\n",
       "      <td>1521.559934</td>\n",
       "      <td>1474.332239</td>\n",
       "    </tr>\n",
       "    <tr>\n",
       "      <th>std</th>\n",
       "      <td>527.553789</td>\n",
       "      <td>562.382569</td>\n",
       "      <td>577.775389</td>\n",
       "      <td>555.645961</td>\n",
       "    </tr>\n",
       "    <tr>\n",
       "      <th>min</th>\n",
       "      <td>1.000000</td>\n",
       "      <td>0.000000</td>\n",
       "      <td>0.000000</td>\n",
       "      <td>550.000000</td>\n",
       "    </tr>\n",
       "    <tr>\n",
       "      <th>25%</th>\n",
       "      <td>457.500000</td>\n",
       "      <td>1000.000000</td>\n",
       "      <td>1200.000000</td>\n",
       "      <td>1115.000000</td>\n",
       "    </tr>\n",
       "    <tr>\n",
       "      <th>50%</th>\n",
       "      <td>914.000000</td>\n",
       "      <td>1250.000000</td>\n",
       "      <td>1370.000000</td>\n",
       "      <td>1310.000000</td>\n",
       "    </tr>\n",
       "    <tr>\n",
       "      <th>75%</th>\n",
       "      <td>1370.500000</td>\n",
       "      <td>1690.000000</td>\n",
       "      <td>1810.000000</td>\n",
       "      <td>1780.000000</td>\n",
       "    </tr>\n",
       "    <tr>\n",
       "      <th>max</th>\n",
       "      <td>1827.000000</td>\n",
       "      <td>3750.000000</td>\n",
       "      <td>3850.000000</td>\n",
       "      <td>3800.000000</td>\n",
       "    </tr>\n",
       "  </tbody>\n",
       "</table>\n",
       "</div>"
      ],
      "text/plain": [
       "            Sl no.  Min Price (Rs./Quintal)  Max Price (Rs./Quintal)  \\\n",
       "count  1827.000000              1827.000000              1827.000000   \n",
       "mean    914.000000              1392.799672              1521.559934   \n",
       "std     527.553789               562.382569               577.775389   \n",
       "min       1.000000                 0.000000                 0.000000   \n",
       "25%     457.500000              1000.000000              1200.000000   \n",
       "50%     914.000000              1250.000000              1370.000000   \n",
       "75%    1370.500000              1690.000000              1810.000000   \n",
       "max    1827.000000              3750.000000              3850.000000   \n",
       "\n",
       "       Modal Price (Rs./Quintal)  \n",
       "count                1827.000000  \n",
       "mean                 1474.332239  \n",
       "std                   555.645961  \n",
       "min                   550.000000  \n",
       "25%                  1115.000000  \n",
       "50%                  1310.000000  \n",
       "75%                  1780.000000  \n",
       "max                  3800.000000  "
      ]
     },
     "execution_count": 7,
     "metadata": {},
     "output_type": "execute_result"
    }
   ],
   "source": [
    "# checking the stats part like min,max,std,count, quantile etc \n",
    "data.describe()"
   ]
  },
  {
   "cell_type": "code",
   "execution_count": 8,
   "metadata": {},
   "outputs": [
    {
     "data": {
      "text/plain": [
       "Sl no.                       1827\n",
       "District Name                   1\n",
       "Market Name                     8\n",
       "Commodity                       1\n",
       "Variety                         4\n",
       "Grade                           1\n",
       "Min Price (Rs./Quintal)       153\n",
       "Max Price (Rs./Quintal)       165\n",
       "Modal Price (Rs./Quintal)     295\n",
       "Price Date                    365\n",
       "dtype: int64"
      ]
     },
     "execution_count": 8,
     "metadata": {},
     "output_type": "execute_result"
    }
   ],
   "source": [
    "data.nunique()"
   ]
  },
  {
   "cell_type": "code",
   "execution_count": 9,
   "metadata": {},
   "outputs": [
    {
     "data": {
      "text/plain": [
       "(1827, 10)"
      ]
     },
     "execution_count": 9,
     "metadata": {},
     "output_type": "execute_result"
    }
   ],
   "source": [
    "# checking the shape of the data \n",
    "data.shape"
   ]
  },
  {
   "cell_type": "code",
   "execution_count": 10,
   "metadata": {},
   "outputs": [
    {
     "data": {
      "text/plain": [
       "Sl no.                       0\n",
       "District Name                0\n",
       "Market Name                  0\n",
       "Commodity                    0\n",
       "Variety                      0\n",
       "Grade                        0\n",
       "Min Price (Rs./Quintal)      0\n",
       "Max Price (Rs./Quintal)      0\n",
       "Modal Price (Rs./Quintal)    0\n",
       "Price Date                   0\n",
       "dtype: int64"
      ]
     },
     "execution_count": 10,
     "metadata": {},
     "output_type": "execute_result"
    }
   ],
   "source": [
    "# checking the null values of the data \n",
    "data.isnull().sum()"
   ]
  },
  {
   "cell_type": "code",
   "execution_count": 83,
   "metadata": {},
   "outputs": [
    {
     "data": {
      "text/plain": [
       "<AxesSubplot:>"
      ]
     },
     "execution_count": 83,
     "metadata": {},
     "output_type": "execute_result"
    },
    {
     "data": {
      "image/png": "[encoded data removed]",
      "text/plain": [
       "<Figure size 432x288 with 2 Axes>"
      ]
     },
     "metadata": {
      "needs_background": "light"
     },
     "output_type": "display_data"
    }
   ],
   "source": [
    "# visulizing the null values \n",
    "sns.heatmap(data.isnull(),yticklabels=False)"
   ]
  },
  {
   "cell_type": "code",
   "execution_count": 25,
   "metadata": {},
   "outputs": [],
   "source": [
    "df = data[[\"Min Price (Rs./Quintal)\",\"Max Price (Rs./Quintal)\",\"Modal Price (Rs./Quintal)\"]]"
   ]
  },
  {
   "cell_type": "code",
   "execution_count": 26,
   "metadata": {},
   "outputs": [
    {
     "data": {
      "text/html": [
       "<div>\n",
       "<style scoped>\n",
       "    .dataframe tbody tr th:only-of-type {\n",
       "        vertical-align: middle;\n",
       "    }\n",
       "\n",
       "    .dataframe tbody tr th {\n",
       "        vertical-align: top;\n",
       "    }\n",
       "\n",
       "    .dataframe thead th {\n",
       "        text-align: right;\n",
       "    }\n",
       "</style>\n",
       "<table border=\"1\" class=\"dataframe\">\n",
       "  <thead>\n",
       "    <tr style=\"text-align: right;\">\n",
       "      <th></th>\n",
       "      <th>Min Price (Rs./Quintal)</th>\n",
       "      <th>Max Price (Rs./Quintal)</th>\n",
       "      <th>Modal Price (Rs./Quintal)</th>\n",
       "    </tr>\n",
       "  </thead>\n",
       "  <tbody>\n",
       "    <tr>\n",
       "      <th>0</th>\n",
       "      <td>900</td>\n",
       "      <td>1000</td>\n",
       "      <td>950</td>\n",
       "    </tr>\n",
       "    <tr>\n",
       "      <th>1</th>\n",
       "      <td>800</td>\n",
       "      <td>900</td>\n",
       "      <td>850</td>\n",
       "    </tr>\n",
       "    <tr>\n",
       "      <th>2</th>\n",
       "      <td>850</td>\n",
       "      <td>950</td>\n",
       "      <td>900</td>\n",
       "    </tr>\n",
       "    <tr>\n",
       "      <th>3</th>\n",
       "      <td>800</td>\n",
       "      <td>900</td>\n",
       "      <td>850</td>\n",
       "    </tr>\n",
       "    <tr>\n",
       "      <th>4</th>\n",
       "      <td>800</td>\n",
       "      <td>900</td>\n",
       "      <td>850</td>\n",
       "    </tr>\n",
       "  </tbody>\n",
       "</table>\n",
       "</div>"
      ],
      "text/plain": [
       "   Min Price (Rs./Quintal)  Max Price (Rs./Quintal)  Modal Price (Rs./Quintal)\n",
       "0                      900                     1000                        950\n",
       "1                      800                      900                        850\n",
       "2                      850                      950                        900\n",
       "3                      800                      900                        850\n",
       "4                      800                      900                        850"
      ]
     },
     "execution_count": 26,
     "metadata": {},
     "output_type": "execute_result"
    }
   ],
   "source": [
    "df.head()"
   ]
  },
  {
   "cell_type": "markdown",
   "metadata": {},
   "source": [
    "# B.Identifing the patterns"
   ]
  },
  {
   "cell_type": "markdown",
   "metadata": {},
   "source": [
    "Identify major markets for the district “Agra” and plot price patterns for each of\n",
    "them. What patterns do you identify? "
   ]
  },
  {
   "cell_type": "code",
   "execution_count": 38,
   "metadata": {},
   "outputs": [
    {
     "data": {
      "text/plain": [
       "array(['Achnera', 'Agra', 'Fatehabad', 'Fatehpur Sikri', 'Jagnair',\n",
       "       'Jarar', 'Khairagarh', 'Samsabad'], dtype=object)"
      ]
     },
     "execution_count": 38,
     "metadata": {},
     "output_type": "execute_result"
    }
   ],
   "source": [
    "# major markets of the district \n",
    "data[\"Market Name\"].unique()"
   ]
  },
  {
   "cell_type": "code",
   "execution_count": 9,
   "metadata": {},
   "outputs": [
    {
     "data": {
      "text/plain": [
       "Index(['Sl no.', 'District Name', 'Market Name', 'Commodity', 'Variety',\n",
       "       'Grade', 'Min Price (Rs./Quintal)', 'Max Price (Rs./Quintal)',\n",
       "       'Modal Price (Rs./Quintal)', 'Price Date'],\n",
       "      dtype='object')"
      ]
     },
     "execution_count": 9,
     "metadata": {},
     "output_type": "execute_result"
    }
   ],
   "source": [
    "data.columns"
   ]
  },
  {
   "cell_type": "code",
   "execution_count": 17,
   "metadata": {},
   "outputs": [
    {
     "data": {
      "text/html": [
       "<div>\n",
       "<style scoped>\n",
       "    .dataframe tbody tr th:only-of-type {\n",
       "        vertical-align: middle;\n",
       "    }\n",
       "\n",
       "    .dataframe tbody tr th {\n",
       "        vertical-align: top;\n",
       "    }\n",
       "\n",
       "    .dataframe thead th {\n",
       "        text-align: right;\n",
       "    }\n",
       "</style>\n",
       "<table border=\"1\" class=\"dataframe\">\n",
       "  <thead>\n",
       "    <tr style=\"text-align: right;\">\n",
       "      <th></th>\n",
       "      <th>Sl no.</th>\n",
       "      <th>Min Price (Rs./Quintal)</th>\n",
       "      <th>Max Price (Rs./Quintal)</th>\n",
       "      <th>Modal Price (Rs./Quintal)</th>\n",
       "    </tr>\n",
       "    <tr>\n",
       "      <th>Market Name</th>\n",
       "      <th></th>\n",
       "      <th></th>\n",
       "      <th></th>\n",
       "      <th></th>\n",
       "    </tr>\n",
       "  </thead>\n",
       "  <tbody>\n",
       "    <tr>\n",
       "      <th>Achnera</th>\n",
       "      <td>153.5</td>\n",
       "      <td>1651.633987</td>\n",
       "      <td>1738.921569</td>\n",
       "      <td>1695.212418</td>\n",
       "    </tr>\n",
       "    <tr>\n",
       "      <th>Agra</th>\n",
       "      <td>449.0</td>\n",
       "      <td>1622.122807</td>\n",
       "      <td>1813.017544</td>\n",
       "      <td>1716.614035</td>\n",
       "    </tr>\n",
       "    <tr>\n",
       "      <th>Fatehabad</th>\n",
       "      <td>720.5</td>\n",
       "      <td>1347.596899</td>\n",
       "      <td>1430.658915</td>\n",
       "      <td>1385.387597</td>\n",
       "    </tr>\n",
       "    <tr>\n",
       "      <th>Fatehpur Sikri</th>\n",
       "      <td>994.5</td>\n",
       "      <td>1556.931034</td>\n",
       "      <td>1710.172414</td>\n",
       "      <td>1737.344828</td>\n",
       "    </tr>\n",
       "    <tr>\n",
       "      <th>Jagnair</th>\n",
       "      <td>1233.0</td>\n",
       "      <td>1265.026738</td>\n",
       "      <td>1358.181818</td>\n",
       "      <td>1311.711230</td>\n",
       "    </tr>\n",
       "    <tr>\n",
       "      <th>Jarar</th>\n",
       "      <td>1399.5</td>\n",
       "      <td>1023.904110</td>\n",
       "      <td>1122.123288</td>\n",
       "      <td>1072.671233</td>\n",
       "    </tr>\n",
       "    <tr>\n",
       "      <th>Khairagarh</th>\n",
       "      <td>1566.0</td>\n",
       "      <td>1182.085561</td>\n",
       "      <td>1285.294118</td>\n",
       "      <td>1233.689840</td>\n",
       "    </tr>\n",
       "    <tr>\n",
       "      <th>Samsabad</th>\n",
       "      <td>1743.5</td>\n",
       "      <td>1015.773810</td>\n",
       "      <td>1237.202381</td>\n",
       "      <td>1141.517857</td>\n",
       "    </tr>\n",
       "  </tbody>\n",
       "</table>\n",
       "</div>"
      ],
      "text/plain": [
       "                Sl no.  Min Price (Rs./Quintal)  Max Price (Rs./Quintal)  \\\n",
       "Market Name                                                                \n",
       "Achnera          153.5              1651.633987              1738.921569   \n",
       "Agra             449.0              1622.122807              1813.017544   \n",
       "Fatehabad        720.5              1347.596899              1430.658915   \n",
       "Fatehpur Sikri   994.5              1556.931034              1710.172414   \n",
       "Jagnair         1233.0              1265.026738              1358.181818   \n",
       "Jarar           1399.5              1023.904110              1122.123288   \n",
       "Khairagarh      1566.0              1182.085561              1285.294118   \n",
       "Samsabad        1743.5              1015.773810              1237.202381   \n",
       "\n",
       "                Modal Price (Rs./Quintal)  \n",
       "Market Name                                \n",
       "Achnera                       1695.212418  \n",
       "Agra                          1716.614035  \n",
       "Fatehabad                     1385.387597  \n",
       "Fatehpur Sikri                1737.344828  \n",
       "Jagnair                       1311.711230  \n",
       "Jarar                         1072.671233  \n",
       "Khairagarh                    1233.689840  \n",
       "Samsabad                      1141.517857  "
      ]
     },
     "execution_count": 17,
     "metadata": {},
     "output_type": "execute_result"
    }
   ],
   "source": [
    "data.groupby([\"Market Name\"]).mean()"
   ]
  },
  {
   "cell_type": "code",
   "execution_count": 51,
   "metadata": {},
   "outputs": [
    {
     "data": {
      "text/plain": [
       "Market Name\n",
       "Achnera           AxesSubplot(0.125,0.125;0.775x0.755)\n",
       "Agra              AxesSubplot(0.125,0.125;0.775x0.755)\n",
       "Fatehabad         AxesSubplot(0.125,0.125;0.775x0.755)\n",
       "Fatehpur Sikri    AxesSubplot(0.125,0.125;0.775x0.755)\n",
       "Jagnair           AxesSubplot(0.125,0.125;0.775x0.755)\n",
       "Jarar             AxesSubplot(0.125,0.125;0.775x0.755)\n",
       "Khairagarh        AxesSubplot(0.125,0.125;0.775x0.755)\n",
       "Samsabad          AxesSubplot(0.125,0.125;0.775x0.755)\n",
       "Name: Min Price (Rs./Quintal), dtype: object"
      ]
     },
     "execution_count": 51,
     "metadata": {},
     "output_type": "execute_result"
    },
    {
     "data": {
      "image/png": "[encoded data removed]",
      "text/plain": [
       "<Figure size 432x288 with 1 Axes>"
      ]
     },
     "metadata": {
      "needs_background": "light"
     },
     "output_type": "display_data"
    }
   ],
   "source": [
    "# ploting with the min price of potato \n",
    "data.groupby([\"Market Name\"])[\"Min Price (Rs./Quintal\")].plot()"
   ]
  },
  {
   "cell_type": "code",
   "execution_count": 52,
   "metadata": {},
   "outputs": [
    {
     "data": {
      "text/plain": [
       "Market Name\n",
       "Achnera           AxesSubplot(0.125,0.125;0.775x0.755)\n",
       "Agra              AxesSubplot(0.125,0.125;0.775x0.755)\n",
       "Fatehabad         AxesSubplot(0.125,0.125;0.775x0.755)\n",
       "Fatehpur Sikri    AxesSubplot(0.125,0.125;0.775x0.755)\n",
       "Jagnair           AxesSubplot(0.125,0.125;0.775x0.755)\n",
       "Jarar             AxesSubplot(0.125,0.125;0.775x0.755)\n",
       "Khairagarh        AxesSubplot(0.125,0.125;0.775x0.755)\n",
       "Samsabad          AxesSubplot(0.125,0.125;0.775x0.755)\n",
       "Name: Max Price (Rs./Quintal), dtype: object"
      ]
     },
     "execution_count": 52,
     "metadata": {},
     "output_type": "execute_result"
    },
    {
     "data": {
      "image/png": "[encoded data removed]",
      "text/plain": [
       "<Figure size 432x288 with 1 Axes>"
      ]
     },
     "metadata": {
      "needs_background": "light"
     },
     "output_type": "display_data"
    }
   ],
   "source": [
    "# ploting with max price \n",
    "data.groupby([\"Market Name\"])[\"Max Price (Rs./Quintal)\"].plot()"
   ]
  },
  {
   "cell_type": "code",
   "execution_count": 61,
   "metadata": {},
   "outputs": [
    {
     "data": {
      "image/png": "[encoded data removed]",
      "text/plain": [
       "<Figure size 720x360 with 1 Axes>"
      ]
     },
     "metadata": {
      "needs_background": "light"
     },
     "output_type": "display_data"
    }
   ],
   "source": [
    "# ploting mean price pattrens with the market names \n",
    "plt.figure(figsize=(10,5))\n",
    "plt.xlabel(\"Market Name\")\n",
    "plt.ylabel(\"Price\")\n",
    "plt.title(\"Price patterns\")\n",
    "for i in df.columns:\n",
    "    data.groupby([\"Market Name\"])[i].mean().plot()"
   ]
  },
  {
   "cell_type": "code",
   "execution_count": null,
   "metadata": {},
   "outputs": [],
   "source": []
  },
  {
   "cell_type": "code",
   "execution_count": null,
   "metadata": {},
   "outputs": [],
   "source": []
  }
 ],
 "metadata": {
  "kernelspec": {
   "display_name": "Python 3",
   "language": "python",
   "name": "python3"
  },
  "language_info": {
   "codemirror_mode": {
    "name": "ipython",
    "version": 3
   },
   "file_extension": ".py",
   "mimetype": "text/x-python",
   "name": "python",
   "nbconvert_exporter": "python",
   "pygments_lexer": "ipython3",
   "version": "3.8.5"
  }
 },
 "nbformat": 4,
 "nbformat_minor": 4
}
